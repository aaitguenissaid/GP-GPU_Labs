{
 "cells": [
  {
   "cell_type": "code",
   "execution_count": 1,
   "id": "f309e2d3",
   "metadata": {},
   "outputs": [],
   "source": [
    "#!pip install numpy\n",
    "#!pip install sklearn\n",
    "\n",
    "# Imports of useful packages\n",
    "import matplotlib # For the plots\n",
    "import matplotlib.pyplot as plt \n",
    "import numpy as np # To perform operations on matrices efficiently\n",
    "\n",
    "\n",
    "# We will use the sklearn library to compare our neural network to that \n",
    "# of a simpler approach like logistic regression\n",
    "\n",
    "import sklearn \n",
    "import sklearn.datasets\n",
    "import sklearn.linear_model\n",
    "\n",
    "from math import exp,log\n",
    "\n",
    "# To display plots inline and adjust the display\n",
    "\n",
    "%matplotlib inline\n",
    "matplotlib.rcParams['figure.figsize'] = (10.0, 8.0)"
   ]
  },
  {
   "cell_type": "code",
   "execution_count": 2,
   "id": "6391c3e6",
   "metadata": {},
   "outputs": [],
   "source": [
    "np.random.seed(1)\n",
    "X, y = sklearn.datasets.make_moons(n_samples=300, noise=0.20)  # We create a dataset with 300 elements"
   ]
  },
  {
   "cell_type": "code",
   "execution_count": 5,
   "id": "f4e159ca",
   "metadata": {},
   "outputs": [],
   "source": [
    "#### display function\n",
    "def plot_decision_boundary(pred_func):\n",
    "    \"\"\"\n",
    "    Shows the decision boundaries of a binary prediction function.\n",
    "    \"\"\"\n",
    "    # Set grid dimensions and give some margin for display\n",
    "    x_min, x_max = X[:, 0].min() - 0.5, X[:, 0].max() + 0.5\n",
    "    y_min, y_max = X[:, 1].min() - 0.5, X[:, 1].max() + 0.5\n",
    "    h = 0.01\n",
    "    # Generate the grid of points with a distance of h between them\n",
    "    xx, yy = np.meshgrid(np.arange(x_min, x_max, h), np.arange(y_min, y_max, h))\n",
    "    # Drawing the decision boundary\n",
    "    Z = pred_func(np.c_[xx.ravel(), yy.ravel()])\n",
    "    Z = Z.reshape(xx.shape)\n",
    "    # Show contour and training points\n",
    "    plt.contourf(xx, yy, Z, cmap=plt.cm.Spectral)\n",
    "    plt.scatter(X[:, 0], X[:, 1], c=y, cmap=plt.cm.Spectral)"
   ]
  },
  {
   "cell_type": "code",
   "execution_count": 6,
   "id": "fcb81e38",
   "metadata": {},
   "outputs": [],
   "source": [
    "def sigmoid(x):\n",
    "    return 1/(1 + np.exp(-x))\n",
    "\n",
    "def sigmoid_prime(x):\n",
    "    return sigmoid(x)*(1-sigmoid(x))\n",
    "\n",
    "def softmax(Z):\n",
    "    exp_scores = np.exp(Z - np.max(Z, axis=1, keepdims=True))\n",
    "    return exp_scores / np.sum(exp_scores, axis=1, keepdims=True)\n",
    "\n",
    "def one_hot(y):\n",
    "    one_hot_y = np.zeros((y.size, y.max() + 1))\n",
    "    one_hot_y[np.arange(y.size), y] = 1\n",
    "    return one_hot_y\n"
   ]
  },
  {
   "cell_type": "code",
   "execution_count": 7,
   "id": "3b68ad6f",
   "metadata": {},
   "outputs": [],
   "source": [
    "class MLP(object):\n",
    "    def __init__(self, activation_function_l1, learning_rate, lambd, num_epochs, d_input, d_hidden, d_output):\n",
    "        self.lr = learning_rate\n",
    "        self.num_epochs = num_epochs\n",
    "        np.random.seed(0)    \n",
    "        self.activation_function_l1 = activation_function_l1\n",
    "        self.W1 = np.random.rand(d_input, d_hidden)-0.5 \n",
    "        self.b1 = np.random.rand(d_hidden)-0.5 \n",
    "        self.W2 = np.random.rand(d_hidden, d_output)-0.5 \n",
    "        self.b2 = np.random.rand(d_output)-0.5 \n",
    "        self.best_model_iteration = 0\n",
    "        self.lambd = lambd # Weight decay\n",
    "        \n",
    "    def update_params(self, W1, b1, W2, b2, best_model_iteration):\n",
    "        self.W1 = W1\n",
    "        self.b1 = b1 \n",
    "        self.W2 = W2\n",
    "        self.b2 = b2\n",
    "        self.best_model_iteration = best_model_iteration\n",
    "        \n",
    "    def forward_function(self, X):\n",
    "        z1 = X.dot(self.W1) + self.b1.T # Output of the first layer\n",
    "        a1 = activation_function_l1(z1) # Sigmoid activation of the first layer\n",
    "        z2 = a1.dot(self.W2) + self.b2.T # Output of the second layer\n",
    "        probs = softmax(z2) #Apply softmax activation function on z2\n",
    "        return z1, a1, z2, probs\n",
    "    \n",
    "    def backpropagation(self, z1, a1, z2, probs, X, y):\n",
    "        delta2 = probs - one_hot(y)\n",
    "        dW2 = a1.T.dot(delta2)\n",
    "        db2 = np.sum(delta2, axis=0)\n",
    "        delta1 = sigmoid_prime(z1) * delta2.dot(self.W2.T)\n",
    "        dW1 = X.T.dot(delta1)\n",
    "        db1 = np.sum(delta1, axis=0)\n",
    "        return dW1, db1, dW2, db2\n",
    "\n",
    "    def gradient_descent(self, dW1, db1, dW2, db2):\n",
    "        self.W1 = self.W1 - self.lr*self.lambd*self.W1 - self.lr * dW1\n",
    "        self.b1 = self.b1 - self.lr*self.lambd*self.b1 - self.lr * db1\n",
    "        self.W2 = self.W2 - self.lr*self.lambd*self.W2 - self.lr * dW2\n",
    "        self.b2 = self.b2 - self.lr*self.lambd*self.b2 - self.lr * db2\n",
    "    \n",
    "    def predict(self, X):\n",
    "        _, _, _, probs = self.forward_function(X)\n",
    "        return np.argmax(probs, axis=1)\n",
    "    \n",
    "    def get_predictions(self, probs):\n",
    "        return np.argmax(probs, axis=1)\n",
    "    \n",
    "    def accuracy(self, y, y_pred):\n",
    "        return np.average(y == y_pred)                        \n",
    "    \n",
    "    def estimate_loss(self, y, probs):\n",
    "        correct_logprobs = -np.log(probs[np.arange(len(probs)), y]) # Calculation of cross entropy for each example\n",
    "        return np.average(correct_logprobs) # Total loss\n",
    "          \n",
    "    def fit(self, X, y, print_loss=False, return_best_model=True):\n",
    "        z1, a1, z2, probs = self.forward_function(X) # this will help us not compute the accuracy two times in the loop.\n",
    "        # best model\n",
    "        bm = {'W1': self.W1, 'b1': self.b1, 'W2': self.W2, 'b2': self.b2, \n",
    "                      'accuracy': self.accuracy(y, self.get_predictions(probs)), 'iteration': -1}\n",
    "        \n",
    "        for i in range(0, self.num_epochs):\n",
    "            dW1, db1, dW2, db2 = self.backpropagation(z1, a1, z2, probs, X, y)\n",
    "            self.gradient_descent(dW1, db1, dW2, db2) # update parameters\n",
    "            z1, a1, z2, probs = self.forward_function(X)\n",
    "    \n",
    "            current_accuracy = self.accuracy(y, self.get_predictions(probs)) # predictions of epoch\n",
    "\n",
    "            if print_loss and i % 100 == 0:\n",
    "                print(\"Loss at epoch %i: %f\" %(i, self.estimate_loss(y, probs)), \"Accuracy :\", current_accuracy)\n",
    "                \n",
    "            if(return_best_model and current_accuracy > bm['accuracy']):\n",
    "                bm = {'W1': self.W1, 'b1': self.b1, 'W2': self.W2, 'b2': self.b2, \n",
    "                              'accuracy': self.accuracy(y, self.get_predictions(probs)), 'iteration': i}\n",
    "        \n",
    "        if(print_loss and return_best_model):\n",
    "            self.update_params(bm['W1'], bm['b1'], bm['W2'], bm['b2'], bm['iteration'])\n",
    "            print(\"The best accuracy obtained is :\", model.accuracy(y, model.predict(X)), \", at this iteration :\", model.best_model_iteration)\n",
    "        elif(print_loss):\n",
    "            print(\"The model accuracy obtained is :\", model.accuracy(y, model.predict(X)))"
   ]
  },
  {
   "cell_type": "code",
   "execution_count": 8,
   "id": "f18c9bda",
   "metadata": {},
   "outputs": [],
   "source": [
    "def shuffle_and_split_data(X, y, train_percentage):\n",
    "    N = len(X)\n",
    "    train_size = int(N * train_percentage) # 80% of samples for training\n",
    "    test_size = N - train_size # 20% remaining for test\n",
    "    p = np.random.permutation(N) # shuffle X and y with the same random permutation. \n",
    "    X = X[p]\n",
    "    y = y[p]\n",
    "\n",
    "    # split data\n",
    "    X_train = X[0:train_size]\n",
    "    y_train = y[0:train_size]\n",
    "    \n",
    "    X_test = X[train_size:N]\n",
    "    y_test = y[train_size:N]\n",
    "    return X_train, y_train, X_test, y_test"
   ]
  },
  {
   "cell_type": "code",
   "execution_count": 9,
   "id": "9e7c79ac",
   "metadata": {},
   "outputs": [],
   "source": [
    "X_train, y_train, X_test, y_test = shuffle_and_split_data(X, y, 0.8)"
   ]
  },
  {
   "cell_type": "code",
   "execution_count": 10,
   "id": "1ba5e908",
   "metadata": {},
   "outputs": [
    {
     "name": "stdout",
     "output_type": "stream",
     "text": [
      "Loss at epoch 0: 1.308488 Accuracy : 0.49166666666666664\n",
      "Loss at epoch 100: 0.149351 Accuracy : 0.9625\n",
      "The model accuracy obtained is : 0.9708333333333333\n",
      "The test accuracy obtained is : 0.9333333333333333\n"
     ]
    }
   ],
   "source": [
    "activation_function_l1=sigmoid\n",
    "learning_rate = 3e-2\n",
    "lambd=0.0\n",
    "num_epochs=200\n",
    "d_input=2 \n",
    "d_hidden=10 \n",
    "d_output=2\n",
    "\n",
    "\n",
    "model = MLP(activation_function_l1, learning_rate, lambd, num_epochs, d_input, d_hidden, d_output)\n",
    "model.fit(X_train, y_train, print_loss=True, return_best_model=False)\n",
    "print(\"The test accuracy obtained is :\", model.accuracy(y_test, model.predict(X_test)))"
   ]
  },
  {
   "cell_type": "code",
   "execution_count": 13,
   "id": "d4043a91",
   "metadata": {},
   "outputs": [],
   "source": [
    "import ctypes"
   ]
  },
  {
   "cell_type": "code",
<<<<<<< HEAD
   "execution_count": 10,
=======
   "execution_count": 15,
>>>>>>> 73dce5baab5ffad71c84736c72ac14a437c4804b
   "id": "dbf68643",
   "metadata": {},
   "outputs": [],
   "source": [
    "def cuda_sigmoid(x):\n",
    "    # Load the shared library\n",
    "    mylibrary = ctypes.CDLL('sigmoid.so')\n",
    "\n",
    "    # Define the function signature\n",
    "\n",
    "    mylibrary.sigmoid_of_matrix.argtypes = [ctypes.POINTER(ctypes.c_float), ctypes.c_int, ctypes.c_int]\n",
    "    mylibrary.sigmoid_of_matrix.restype = ctypes.c_float\n",
    "\n",
    "    # Get a pointer to the data\n",
    "    x_ptr = x.ctypes.data_as(ctypes.POINTER(ctypes.c_float))\n",
    "\n",
    "    # Call the CUDA function with the pointer\n",
    "    result = mylibrary.sigmoid_of_matrix(x_ptr, len(x), len(x[0]))\n",
    "\n",
    "    return result\n"
   ]
  },
  {
   "cell_type": "code",
<<<<<<< HEAD
   "execution_count": 11,
   "id": "f281051a",
   "metadata": {},
   "outputs": [
    {
     "ename": "NameError",
     "evalue": "name 'data' is not defined",
     "output_type": "error",
     "traceback": [
      "\u001b[0;31m---------------------------------------------------------------------------\u001b[0m",
      "\u001b[0;31mNameError\u001b[0m                                 Traceback (most recent call last)",
      "Cell \u001b[0;32mIn[11], line 2\u001b[0m\n\u001b[1;32m      1\u001b[0m \u001b[38;5;66;03m# Get a pointer to the data\u001b[39;00m\n\u001b[0;32m----> 2\u001b[0m data_ptr \u001b[38;5;241m=\u001b[39m data\u001b[38;5;241m.\u001b[39mctypes\u001b[38;5;241m.\u001b[39mdata_as(ctypes\u001b[38;5;241m.\u001b[39mPOINTER(ctypes\u001b[38;5;241m.\u001b[39mc_float))\n\u001b[1;32m      4\u001b[0m \u001b[38;5;66;03m# Call the CUDA function with the pointer\u001b[39;00m\n\u001b[1;32m      5\u001b[0m result \u001b[38;5;241m=\u001b[39m mylibrary\u001b[38;5;241m.\u001b[39mmy_function(data_ptr, \u001b[38;5;28mlen\u001b[39m(data))\n",
      "\u001b[0;31mNameError\u001b[0m: name 'data' is not defined"
     ]
    }
   ],
   "source": [
    "# Get a pointer to the data\n",
    "data_ptr = data.ctypes.data_as(ctypes.POINTER(ctypes.c_float))\n",
    "\n",
    "# Call the CUDA function with the pointer\n",
    "result = mylibrary.my_function(data_ptr, len(data))"
   ]
  },
  {
   "cell_type": "code",
   "execution_count": null,
=======
   "execution_count": 16,
>>>>>>> 73dce5baab5ffad71c84736c72ac14a437c4804b
   "id": "a1dc362e",
   "metadata": {},
   "outputs": [
    {
     "ename": "AttributeError",
     "evalue": "./sigmoid.so: undefined symbol: sigmoid_of_matrix",
     "output_type": "error",
     "traceback": [
      "\u001b[0;31m---------------------------------------------------------------------------\u001b[0m",
      "\u001b[0;31mAttributeError\u001b[0m                            Traceback (most recent call last)",
      "\u001b[1;32m/user/2/.base/aitguena/home/Documents/M2/GP-GPU/GP-GPU_Labs/Project/MLP_with_CUDA.ipynb Cell 11\u001b[0m line \u001b[0;36m1\n\u001b[1;32m      <a href='vscode-notebook-cell:/user/2/.base/aitguena/home/Documents/M2/GP-GPU/GP-GPU_Labs/Project/MLP_with_CUDA.ipynb#X14sZmlsZQ%3D%3D?line=6'>7</a>\u001b[0m d_output\u001b[39m=\u001b[39m\u001b[39m2\u001b[39m\n\u001b[1;32m     <a href='vscode-notebook-cell:/user/2/.base/aitguena/home/Documents/M2/GP-GPU/GP-GPU_Labs/Project/MLP_with_CUDA.ipynb#X14sZmlsZQ%3D%3D?line=9'>10</a>\u001b[0m model \u001b[39m=\u001b[39m MLP(activation_function_l1, learning_rate, lambd, num_epochs, d_input, d_hidden, d_output)\n\u001b[0;32m---> <a href='vscode-notebook-cell:/user/2/.base/aitguena/home/Documents/M2/GP-GPU/GP-GPU_Labs/Project/MLP_with_CUDA.ipynb#X14sZmlsZQ%3D%3D?line=10'>11</a>\u001b[0m model\u001b[39m.\u001b[39;49mfit(X_train, y_train, print_loss\u001b[39m=\u001b[39;49m\u001b[39mTrue\u001b[39;49;00m, return_best_model\u001b[39m=\u001b[39;49m\u001b[39mFalse\u001b[39;49;00m)\n\u001b[1;32m     <a href='vscode-notebook-cell:/user/2/.base/aitguena/home/Documents/M2/GP-GPU/GP-GPU_Labs/Project/MLP_with_CUDA.ipynb#X14sZmlsZQ%3D%3D?line=11'>12</a>\u001b[0m \u001b[39mprint\u001b[39m(\u001b[39m\"\u001b[39m\u001b[39mThe test accuracy obtained is :\u001b[39m\u001b[39m\"\u001b[39m, model\u001b[39m.\u001b[39maccuracy(y_test, model\u001b[39m.\u001b[39mpredict(X_test)))\n",
      "\u001b[1;32m/user/2/.base/aitguena/home/Documents/M2/GP-GPU/GP-GPU_Labs/Project/MLP_with_CUDA.ipynb Cell 11\u001b[0m line \u001b[0;36m5\n\u001b[1;32m     <a href='vscode-notebook-cell:/user/2/.base/aitguena/home/Documents/M2/GP-GPU/GP-GPU_Labs/Project/MLP_with_CUDA.ipynb#X14sZmlsZQ%3D%3D?line=56'>57</a>\u001b[0m \u001b[39mdef\u001b[39;00m \u001b[39mfit\u001b[39m(\u001b[39mself\u001b[39m, X, y, print_loss\u001b[39m=\u001b[39m\u001b[39mFalse\u001b[39;00m, return_best_model\u001b[39m=\u001b[39m\u001b[39mTrue\u001b[39;00m):\n\u001b[0;32m---> <a href='vscode-notebook-cell:/user/2/.base/aitguena/home/Documents/M2/GP-GPU/GP-GPU_Labs/Project/MLP_with_CUDA.ipynb#X14sZmlsZQ%3D%3D?line=57'>58</a>\u001b[0m     z1, a1, z2, probs \u001b[39m=\u001b[39m \u001b[39mself\u001b[39;49m\u001b[39m.\u001b[39;49mforward_function(X) \u001b[39m# this will help us not compute the accuracy two times in the loop.\u001b[39;00m\n\u001b[1;32m     <a href='vscode-notebook-cell:/user/2/.base/aitguena/home/Documents/M2/GP-GPU/GP-GPU_Labs/Project/MLP_with_CUDA.ipynb#X14sZmlsZQ%3D%3D?line=58'>59</a>\u001b[0m     \u001b[39m# best model\u001b[39;00m\n\u001b[1;32m     <a href='vscode-notebook-cell:/user/2/.base/aitguena/home/Documents/M2/GP-GPU/GP-GPU_Labs/Project/MLP_with_CUDA.ipynb#X14sZmlsZQ%3D%3D?line=59'>60</a>\u001b[0m     bm \u001b[39m=\u001b[39m {\u001b[39m'\u001b[39m\u001b[39mW1\u001b[39m\u001b[39m'\u001b[39m: \u001b[39mself\u001b[39m\u001b[39m.\u001b[39mW1, \u001b[39m'\u001b[39m\u001b[39mb1\u001b[39m\u001b[39m'\u001b[39m: \u001b[39mself\u001b[39m\u001b[39m.\u001b[39mb1, \u001b[39m'\u001b[39m\u001b[39mW2\u001b[39m\u001b[39m'\u001b[39m: \u001b[39mself\u001b[39m\u001b[39m.\u001b[39mW2, \u001b[39m'\u001b[39m\u001b[39mb2\u001b[39m\u001b[39m'\u001b[39m: \u001b[39mself\u001b[39m\u001b[39m.\u001b[39mb2, \n\u001b[1;32m     <a href='vscode-notebook-cell:/user/2/.base/aitguena/home/Documents/M2/GP-GPU/GP-GPU_Labs/Project/MLP_with_CUDA.ipynb#X14sZmlsZQ%3D%3D?line=60'>61</a>\u001b[0m                   \u001b[39m'\u001b[39m\u001b[39maccuracy\u001b[39m\u001b[39m'\u001b[39m: \u001b[39mself\u001b[39m\u001b[39m.\u001b[39maccuracy(y, \u001b[39mself\u001b[39m\u001b[39m.\u001b[39mget_predictions(probs)), \u001b[39m'\u001b[39m\u001b[39miteration\u001b[39m\u001b[39m'\u001b[39m: \u001b[39m-\u001b[39m\u001b[39m1\u001b[39m}\n",
      "\u001b[1;32m/user/2/.base/aitguena/home/Documents/M2/GP-GPU/GP-GPU_Labs/Project/MLP_with_CUDA.ipynb Cell 11\u001b[0m line \u001b[0;36m2\n\u001b[1;32m     <a href='vscode-notebook-cell:/user/2/.base/aitguena/home/Documents/M2/GP-GPU/GP-GPU_Labs/Project/MLP_with_CUDA.ipynb#X14sZmlsZQ%3D%3D?line=20'>21</a>\u001b[0m \u001b[39mdef\u001b[39;00m \u001b[39mforward_function\u001b[39m(\u001b[39mself\u001b[39m, X):\n\u001b[1;32m     <a href='vscode-notebook-cell:/user/2/.base/aitguena/home/Documents/M2/GP-GPU/GP-GPU_Labs/Project/MLP_with_CUDA.ipynb#X14sZmlsZQ%3D%3D?line=21'>22</a>\u001b[0m     z1 \u001b[39m=\u001b[39m X\u001b[39m.\u001b[39mdot(\u001b[39mself\u001b[39m\u001b[39m.\u001b[39mW1) \u001b[39m+\u001b[39m \u001b[39mself\u001b[39m\u001b[39m.\u001b[39mb1\u001b[39m.\u001b[39mT \u001b[39m# Output of the first layer\u001b[39;00m\n\u001b[0;32m---> <a href='vscode-notebook-cell:/user/2/.base/aitguena/home/Documents/M2/GP-GPU/GP-GPU_Labs/Project/MLP_with_CUDA.ipynb#X14sZmlsZQ%3D%3D?line=22'>23</a>\u001b[0m     a1 \u001b[39m=\u001b[39m activation_function_l1(z1) \u001b[39m# Sigmoid activation of the first layer\u001b[39;00m\n\u001b[1;32m     <a href='vscode-notebook-cell:/user/2/.base/aitguena/home/Documents/M2/GP-GPU/GP-GPU_Labs/Project/MLP_with_CUDA.ipynb#X14sZmlsZQ%3D%3D?line=23'>24</a>\u001b[0m     z2 \u001b[39m=\u001b[39m a1\u001b[39m.\u001b[39mdot(\u001b[39mself\u001b[39m\u001b[39m.\u001b[39mW2) \u001b[39m+\u001b[39m \u001b[39mself\u001b[39m\u001b[39m.\u001b[39mb2\u001b[39m.\u001b[39mT \u001b[39m# Output of the second layer\u001b[39;00m\n\u001b[1;32m     <a href='vscode-notebook-cell:/user/2/.base/aitguena/home/Documents/M2/GP-GPU/GP-GPU_Labs/Project/MLP_with_CUDA.ipynb#X14sZmlsZQ%3D%3D?line=24'>25</a>\u001b[0m     probs \u001b[39m=\u001b[39m softmax(z2) \u001b[39m#Apply softmax activation function on z2\u001b[39;00m\n",
      "\u001b[1;32m/user/2/.base/aitguena/home/Documents/M2/GP-GPU/GP-GPU_Labs/Project/MLP_with_CUDA.ipynb Cell 11\u001b[0m line \u001b[0;36m7\n\u001b[1;32m      <a href='vscode-notebook-cell:/user/2/.base/aitguena/home/Documents/M2/GP-GPU/GP-GPU_Labs/Project/MLP_with_CUDA.ipynb#X14sZmlsZQ%3D%3D?line=2'>3</a>\u001b[0m mylibrary \u001b[39m=\u001b[39m ctypes\u001b[39m.\u001b[39mCDLL(\u001b[39m'\u001b[39m\u001b[39m./sigmoid.so\u001b[39m\u001b[39m'\u001b[39m)\n\u001b[1;32m      <a href='vscode-notebook-cell:/user/2/.base/aitguena/home/Documents/M2/GP-GPU/GP-GPU_Labs/Project/MLP_with_CUDA.ipynb#X14sZmlsZQ%3D%3D?line=4'>5</a>\u001b[0m \u001b[39m# Define the function signature\u001b[39;00m\n\u001b[0;32m----> <a href='vscode-notebook-cell:/user/2/.base/aitguena/home/Documents/M2/GP-GPU/GP-GPU_Labs/Project/MLP_with_CUDA.ipynb#X14sZmlsZQ%3D%3D?line=6'>7</a>\u001b[0m mylibrary\u001b[39m.\u001b[39;49msigmoid_of_matrix\u001b[39m.\u001b[39margtypes \u001b[39m=\u001b[39m [ctypes\u001b[39m.\u001b[39mPOINTER(ctypes\u001b[39m.\u001b[39mc_float), ctypes\u001b[39m.\u001b[39mc_int, ctypes\u001b[39m.\u001b[39mc_int]\n\u001b[1;32m      <a href='vscode-notebook-cell:/user/2/.base/aitguena/home/Documents/M2/GP-GPU/GP-GPU_Labs/Project/MLP_with_CUDA.ipynb#X14sZmlsZQ%3D%3D?line=7'>8</a>\u001b[0m mylibrary\u001b[39m.\u001b[39msigmoid_of_matrix\u001b[39m.\u001b[39mrestype \u001b[39m=\u001b[39m ctypes\u001b[39m.\u001b[39mc_float\n\u001b[1;32m     <a href='vscode-notebook-cell:/user/2/.base/aitguena/home/Documents/M2/GP-GPU/GP-GPU_Labs/Project/MLP_with_CUDA.ipynb#X14sZmlsZQ%3D%3D?line=9'>10</a>\u001b[0m \u001b[39m# Get a pointer to the data\u001b[39;00m\n",
      "File \u001b[0;32m/usr/lib/python3.10/ctypes/__init__.py:387\u001b[0m, in \u001b[0;36mCDLL.__getattr__\u001b[0;34m(self, name)\u001b[0m\n\u001b[1;32m    385\u001b[0m \u001b[39mif\u001b[39;00m name\u001b[39m.\u001b[39mstartswith(\u001b[39m'\u001b[39m\u001b[39m__\u001b[39m\u001b[39m'\u001b[39m) \u001b[39mand\u001b[39;00m name\u001b[39m.\u001b[39mendswith(\u001b[39m'\u001b[39m\u001b[39m__\u001b[39m\u001b[39m'\u001b[39m):\n\u001b[1;32m    386\u001b[0m     \u001b[39mraise\u001b[39;00m \u001b[39mAttributeError\u001b[39;00m(name)\n\u001b[0;32m--> 387\u001b[0m func \u001b[39m=\u001b[39m \u001b[39mself\u001b[39;49m\u001b[39m.\u001b[39;49m\u001b[39m__getitem__\u001b[39;49m(name)\n\u001b[1;32m    388\u001b[0m \u001b[39msetattr\u001b[39m(\u001b[39mself\u001b[39m, name, func)\n\u001b[1;32m    389\u001b[0m \u001b[39mreturn\u001b[39;00m func\n",
      "File \u001b[0;32m/usr/lib/python3.10/ctypes/__init__.py:392\u001b[0m, in \u001b[0;36mCDLL.__getitem__\u001b[0;34m(self, name_or_ordinal)\u001b[0m\n\u001b[1;32m    391\u001b[0m \u001b[39mdef\u001b[39;00m \u001b[39m__getitem__\u001b[39m(\u001b[39mself\u001b[39m, name_or_ordinal):\n\u001b[0;32m--> 392\u001b[0m     func \u001b[39m=\u001b[39m \u001b[39mself\u001b[39;49m\u001b[39m.\u001b[39;49m_FuncPtr((name_or_ordinal, \u001b[39mself\u001b[39;49m))\n\u001b[1;32m    393\u001b[0m     \u001b[39mif\u001b[39;00m \u001b[39mnot\u001b[39;00m \u001b[39misinstance\u001b[39m(name_or_ordinal, \u001b[39mint\u001b[39m):\n\u001b[1;32m    394\u001b[0m         func\u001b[39m.\u001b[39m\u001b[39m__name__\u001b[39m \u001b[39m=\u001b[39m name_or_ordinal\n",
      "\u001b[0;31mAttributeError\u001b[0m: ./sigmoid.so: undefined symbol: sigmoid_of_matrix"
     ]
    }
   ],
   "source": [
    "activation_function_l1=cuda_sigmoid\n",
    "learning_rate = 3e-2\n",
    "lambd=0.0\n",
    "num_epochs=200\n",
    "d_input=2 \n",
    "d_hidden=10 \n",
    "d_output=2\n",
    "\n",
    "\n",
    "model = MLP(activation_function_l1, learning_rate, lambd, num_epochs, d_input, d_hidden, d_output)\n",
    "model.fit(X_train, y_train, print_loss=True, return_best_model=False)\n",
    "print(\"The test accuracy obtained is :\", model.accuracy(y_test, model.predict(X_test)))"
   ]
  }
 ],
 "metadata": {
  "kernelspec": {
   "display_name": "Python 3 (ipykernel)",
   "language": "python",
   "name": "python3"
  },
  "language_info": {
   "codemirror_mode": {
    "name": "ipython",
    "version": 3
   },
   "file_extension": ".py",
   "mimetype": "text/x-python",
   "name": "python",
   "nbconvert_exporter": "python",
   "pygments_lexer": "ipython3",
   "version": "3.10.12"
  }
 },
 "nbformat": 4,
 "nbformat_minor": 5
}
